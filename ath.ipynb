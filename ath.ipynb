{
   "cell_type": "code",
   "execution_count": null,
   "id": "70f7176a-0ccc-4b47-8eaa-ee862f3b2019",
   "metadata": {
    "tags": []
   },
   "outputs": [],
   "source": [
    "pip install pandas"
   ]
  },
  {
   "cell_type": "code",
   "execution_count": null,
   "id": "91730cbf-a791-4543-ae08-20a7731471af",
   "metadata": {},
   "outputs": [],
   "source": [
    "import csv\n",
    "import pandas as pd\n",
    "\n",
    "\n",
    "FILE_PATH = input('Where is your CSV file?')\n",
    "TABLE_NAME = input('Which csv would you like to see: ')\n",
    "\n",
    "#'Account Order History',#\n",
    "#'Account Trade History',#\n",
    "#'Cash Balance',#\n",
    "#'Forex Statements',#\n",
    "#'Futures Statements',\n",
    "#'Options',#\n",
    "#'Profits and Losses'"
   ]
  },
  {
   "cell_type": "code",
   "execution_count": null,
   "id": "8af3a507-3407-426a-b9a9-c07f1a150f36",
   "metadata": {},
   "outputs": [],
   "source": [
    "TABLE_NAME = str.title(TABLE_NAME)\n",
    "\n",
    "acs_file = []\n",
    "\n",
    "with open(FILE_PATH, newline='') as csvfile:\n",
    "    file_reader = csv.reader(csvfile, delimiter=',', quotechar='\"')\n",
    "    for row in file_reader:\n",
    "        acs_file.append(row)"
   ]
  },
  {
   "cell_type": "code",
   "execution_count": null,
   "id": "c27b8cab-1494-4ea4-b965-d98789672de7",
   "metadata": {},
   "outputs": [],
   "source": [
    "separate_at = []\n",
    "\n",
    "for i in range(len(acs_file)):\n",
    "    if acs_file[i] == []:\n",
    "        separate_at.append(i+1)\n",
    "    else:\n",
    "        pass"
   ]
  },
  {
   "cell_type": "code",
   "execution_count": null,
   "id": "cee92b6f-77b9-4bc4-85c0-84fa9b2cde94",
   "metadata": {},
   "outputs": [],
   "source": [
    "temp = []\n",
    "for i in range(len(separate_at)-1):\n",
    "    if separate_at[i+1]-separate_at[i] > 1:\n",
    "        temp.append(separate_at[i])\n",
    "\n",
    "temp.append(separate_at[-1])\n",
    "\n",
    "separate_at = temp"
   ]
  },
  {
   "cell_type": "code",
   "execution_count": null,
   "id": "ee711350-759f-4b7c-be4c-afe9750c637c",
   "metadata": {},
   "outputs": [],
   "source": [
    "sliced_lists = []\n",
    "\n",
    "for i in range(1, len(separate_at)):\n",
    "    sliced_lists.append(acs_file[separate_at[i-1]:separate_at[i]])"
   ]
  },
  {
   "cell_type": "code",
   "execution_count": null,
   "id": "b45ad37d-0634-450d-87a8-d1011f92475b",
   "metadata": {},
   "outputs": [],
   "source": [
    "# Check this output for acceptable values for 'TABLE_NAME' variable\n",
    "section_labels = []\n",
    "for i in range(len(sliced_lists)):\n",
    "    section_labels += sliced_lists[i][0]\n",
    "    #print( sliced_lists[i][0])\n",
    "    \n",
    "#print(separate_at[section_labels.index(TABLE_NAME)])\n",
    "#print(acs_file)"
   ]
  },
  {
   "cell_type": "code",
   "execution_count": null,
   "id": "7a020b76-5ac2-4ccf-bc4c-2b1699c357e1",
   "metadata": {},
   "outputs": [],
   "source": [
    "table_to_display = sliced_lists[section_labels.index(TABLE_NAME)]\n",
    "df = pd.DataFrame(table_to_display)\n",
    "\n",
    "if TABLE_NAME == \"Account Trade History\":\n",
    "    df.drop([0],inplace=True,axis=1)\n",
    "    \n",
    "elif TABLE_NAME == \"Forex Statements\":\n",
    "    df.drop([0],inplace=True,axis=1)\n",
    "\n",
    "elif TABLE_NAME == \"Account Order History\":\n",
    "    df.drop([1],inplace=True,axis=1)\n",
    "    \n",
    "else:\n",
    "    df\n",
    "        \n",
    "    \n",
    "new_header = df.iloc[0]\n",
    "df = df[1:]\n",
    "#df\n",
    "df.to_csv(TABLE_NAME + \".csv\",header=None,index=False)#date time stamp"
   ]
  },
  {
   "cell_type": "code",
   "execution_count": null,
   "id": "0c75cb88-5b2b-4b65-98b8-53371bcc6f24",
   "metadata": {},
   "outputs": [],
   "source": []
  }
 ],
 "metadata": {
  "kernelspec": {
   "display_name": "Python 3 (ipykernel)",
   "language": "python",
   "name": "python3"
  },
  "language_info": {
   "codemirror_mode": {
    "name": "ipython",
    "version": 3
   },
   "file_extension": ".py",
   "mimetype": "text/x-python",
   "name": "python",
   "nbconvert_exporter": "python",
   "pygments_lexer": "ipython3",
   "version": "3.7.4"
  }
 },
 "nbformat": 4,
 "nbformat_minor": 5
}
